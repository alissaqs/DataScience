{
  "nbformat": 4,
  "nbformat_minor": 0,
  "metadata": {
    "colab": {
      "name": "Lógica de programação.ipynb",
      "provenance": [],
      "authorship_tag": "ABX9TyNMpHNMsKFGJ2q8tMUm/Y6/",
      "include_colab_link": true
    },
    "kernelspec": {
      "name": "python3",
      "display_name": "Python 3"
    },
    "language_info": {
      "name": "python"
    }
  },
  "cells": [
    {
      "cell_type": "markdown",
      "metadata": {
        "id": "view-in-github",
        "colab_type": "text"
      },
      "source": [
        "<a href=\"https://colab.research.google.com/github/alissaqs/DataScience/blob/main/L%C3%B3gica_de_programa%C3%A7%C3%A3o.ipynb\" target=\"_parent\"><img src=\"https://colab.research.google.com/assets/colab-badge.svg\" alt=\"Open In Colab\"/></a>"
      ]
    },
    {
      "cell_type": "markdown",
      "source": [
        "# Lógica de programação com Python"
      ],
      "metadata": {
        "id": "EHa0hr9heIiR"
      }
    },
    {
      "cell_type": "code",
      "source": [
        "def saudacao ():\n",
        "  nome = input(\"Qual é o seu nome? \")\n",
        "  print(f\"Olá {nome}\")\n",
        "  "
      ],
      "metadata": {
        "id": "rVKcw-BaeL-M"
      },
      "execution_count": null,
      "outputs": []
    },
    {
      "cell_type": "code",
      "source": [
        "saudacao()"
      ],
      "metadata": {
        "colab": {
          "base_uri": "https://localhost:8080/"
        },
        "id": "JeK3I8F0RD4X",
        "outputId": "00dbb17f-80e4-43fd-fbe9-bcb8b18b7930"
      },
      "execution_count": null,
      "outputs": [
        {
          "output_type": "stream",
          "name": "stdout",
          "text": [
            "Qual é o seu nome? Larissa\n",
            "Olá Larissa\n"
          ]
        }
      ]
    },
    {
      "cell_type": "markdown",
      "source": [
        "# Parâmetros"
      ],
      "metadata": {
        "id": "lP4I_jpal8cT"
      }
    },
    {
      "cell_type": "code",
      "source": [
        "nome = 'Larissa'"
      ],
      "metadata": {
        "id": "5LglzoUEmDFn"
      },
      "execution_count": null,
      "outputs": []
    },
    {
      "cell_type": "code",
      "source": [
        "def saudacao_com_parametros(nome_da_pessoa):\n",
        "  print(f'Olá {nome_da_pessoa}')"
      ],
      "metadata": {
        "id": "Z15BrxoXmGzo"
      },
      "execution_count": null,
      "outputs": []
    },
    {
      "cell_type": "code",
      "source": [
        "saudacao_com_parametros(nome)"
      ],
      "metadata": {
        "colab": {
          "base_uri": "https://localhost:8080/"
        },
        "id": "5B5Tk53RmL5y",
        "outputId": "a64eb272-f3dc-472c-a90c-5ca200d0dc26"
      },
      "execution_count": null,
      "outputs": [
        {
          "output_type": "stream",
          "name": "stdout",
          "text": [
            "Olá Larissa\n"
          ]
        }
      ]
    },
    {
      "cell_type": "markdown",
      "source": [
        "# Condicional"
      ],
      "metadata": {
        "id": "-areVGxPmaNN"
      }
    },
    {
      "cell_type": "code",
      "source": [
        "idade = 15\n",
        "def verifica_dirigir(idade):\n",
        "  if idade >= 18:\n",
        "    print('Tem permissão para dirigir')\n",
        "  else: \n",
        "    print('Não tem permissão para dirigir')\n",
        "\n",
        "verifica_dirigir(idade)\n"
      ],
      "metadata": {
        "colab": {
          "base_uri": "https://localhost:8080/"
        },
        "id": "wTAuapUBmf6f",
        "outputId": "f402388b-eca1-4d9c-c9e9-364e3507e211"
      },
      "execution_count": null,
      "outputs": [
        {
          "output_type": "stream",
          "name": "stdout",
          "text": [
            "Não tem permissão para dirigir\n"
          ]
        }
      ]
    },
    {
      "cell_type": "markdown",
      "source": [
        "# Convertendo tipo para inteiro"
      ],
      "metadata": {
        "id": "np_yBcKZoc_P"
      }
    },
    {
      "cell_type": "code",
      "source": [
        "def verifica_dirigir_sem_parametros():\n",
        "  idade = input('Qual sua idade? ')\n",
        "  idade = int(idade)\n",
        "  if idade >= 18:\n",
        "    print('Tem permissão para dirigir')\n",
        "  else: \n",
        "    print('Não tem permissão para dirigir')\n",
        "\n",
        "verifica_dirigir_sem_parametros()"
      ],
      "metadata": {
        "colab": {
          "base_uri": "https://localhost:8080/"
        },
        "id": "m5HQ_GQXm-5c",
        "outputId": "9a09889f-e4c3-4de0-951f-557b121cb5ff"
      },
      "execution_count": null,
      "outputs": [
        {
          "output_type": "stream",
          "name": "stdout",
          "text": [
            "Qual sua idade? 26\n",
            "Tem permissão para dirigir\n"
          ]
        }
      ]
    },
    {
      "cell_type": "markdown",
      "source": [
        "# Lista"
      ],
      "metadata": {
        "id": "deRB7RdXp4Ob"
      }
    },
    {
      "cell_type": "code",
      "source": [
        "idades = [18, 22, 25, 26, 27]\n",
        "type(idades)"
      ],
      "metadata": {
        "colab": {
          "base_uri": "https://localhost:8080/"
        },
        "id": "xA-UTBBOp75D",
        "outputId": "5fa449df-0b44-40ad-f224-00a41e8a16f7"
      },
      "execution_count": null,
      "outputs": [
        {
          "output_type": "execute_result",
          "data": {
            "text/plain": [
              "list"
            ]
          },
          "metadata": {},
          "execution_count": 18
        }
      ]
    },
    {
      "cell_type": "code",
      "source": [
        "idades[0]"
      ],
      "metadata": {
        "colab": {
          "base_uri": "https://localhost:8080/"
        },
        "id": "NxbUq1MfqPgN",
        "outputId": "76de3e58-35d6-4922-aad4-878493d8dca1"
      },
      "execution_count": null,
      "outputs": [
        {
          "output_type": "execute_result",
          "data": {
            "text/plain": [
              "18"
            ]
          },
          "metadata": {},
          "execution_count": 19
        }
      ]
    },
    {
      "cell_type": "code",
      "source": [
        "idades[0:3]"
      ],
      "metadata": {
        "colab": {
          "base_uri": "https://localhost:8080/"
        },
        "id": "bwBQIsQ1qWI9",
        "outputId": "a12c2a12-0e7e-4ec9-9019-3414e74950dd"
      },
      "execution_count": null,
      "outputs": [
        {
          "output_type": "execute_result",
          "data": {
            "text/plain": [
              "[18, 22, 25]"
            ]
          },
          "metadata": {},
          "execution_count": 20
        }
      ]
    },
    {
      "cell_type": "code",
      "source": [
        "idades[1:]"
      ],
      "metadata": {
        "colab": {
          "base_uri": "https://localhost:8080/"
        },
        "id": "4Iw767XWqjz7",
        "outputId": "557ce5fa-7a33-44ef-9fd3-0dc99a5a2890"
      },
      "execution_count": null,
      "outputs": [
        {
          "output_type": "execute_result",
          "data": {
            "text/plain": [
              "[22, 25, 26, 27]"
            ]
          },
          "metadata": {},
          "execution_count": 21
        }
      ]
    },
    {
      "cell_type": "code",
      "source": [
        "idades[-1]"
      ],
      "metadata": {
        "colab": {
          "base_uri": "https://localhost:8080/"
        },
        "id": "A-SYdNzvqsho",
        "outputId": "7bf037c1-00ed-4fa7-ac89-f51826699563"
      },
      "execution_count": null,
      "outputs": [
        {
          "output_type": "execute_result",
          "data": {
            "text/plain": [
              "27"
            ]
          },
          "metadata": {},
          "execution_count": 22
        }
      ]
    },
    {
      "cell_type": "code",
      "source": [
        "idades[-2]"
      ],
      "metadata": {
        "colab": {
          "base_uri": "https://localhost:8080/"
        },
        "id": "4-uwfFOVqx1q",
        "outputId": "0a3c973f-3ad8-4833-a9be-9cb2408c828e"
      },
      "execution_count": null,
      "outputs": [
        {
          "output_type": "execute_result",
          "data": {
            "text/plain": [
              "26"
            ]
          },
          "metadata": {},
          "execution_count": 23
        }
      ]
    },
    {
      "cell_type": "code",
      "source": [
        "idades"
      ],
      "metadata": {
        "colab": {
          "base_uri": "https://localhost:8080/"
        },
        "id": "887irFTNq6O-",
        "outputId": "698feef3-dee9-4f06-f758-56bd831368db"
      },
      "execution_count": null,
      "outputs": [
        {
          "output_type": "execute_result",
          "data": {
            "text/plain": [
              "[18, 22, 25, 26, 27]"
            ]
          },
          "metadata": {},
          "execution_count": 24
        }
      ]
    },
    {
      "cell_type": "markdown",
      "source": [
        "# Laços e loops"
      ],
      "metadata": {
        "id": "HYQrKNZGrhuI"
      }
    },
    {
      "cell_type": "code",
      "source": [
        "idades = [12, 14, 15, 18, 24, 50]"
      ],
      "metadata": {
        "id": "I55Yos_Br4X6"
      },
      "execution_count": null,
      "outputs": []
    },
    {
      "cell_type": "code",
      "source": [
        "def verifica_dirigir(idade):\n",
        "  if idade >= 18:\n",
        "    print(f'{idade} anos tem permissão para dirigir')\n",
        "  else: \n",
        "    print(f'{idade} anos não tem permissão para dirigir')\n",
        "\n",
        "for idade in idades:\n",
        "  verifica_dirigir(idade)"
      ],
      "metadata": {
        "colab": {
          "base_uri": "https://localhost:8080/"
        },
        "id": "yVB9hMGUrm3t",
        "outputId": "4482308b-9cc4-45a1-a9dd-70a2ef9969ce"
      },
      "execution_count": null,
      "outputs": [
        {
          "output_type": "stream",
          "name": "stdout",
          "text": [
            "12 anos não tem permissão para dirigir\n",
            "14 anos não tem permissão para dirigir\n",
            "15 anos não tem permissão para dirigir\n",
            "18 anos tem permissão para dirigir\n",
            "24 anos tem permissão para dirigir\n",
            "50 anos tem permissão para dirigir\n"
          ]
        }
      ]
    },
    {
      "cell_type": "code",
      "source": [
        "def verifica_dirigir(idades):\n",
        "  for idade in idades:\n",
        "     if idade >= 18:\n",
        "      print(f'{idade} anos tem permissão para dirigir')\n",
        "     else: \n",
        "      print(f'{idade} anos não tem permissão para dirigir')\n",
        "\n",
        "verifica_dirigir(idades)"
      ],
      "metadata": {
        "colab": {
          "base_uri": "https://localhost:8080/"
        },
        "id": "onzzkhjfshrJ",
        "outputId": "b26db35f-9591-4d61-a701-68e50a0ecef5"
      },
      "execution_count": null,
      "outputs": [
        {
          "output_type": "stream",
          "name": "stdout",
          "text": [
            "12 anos não tem permissão para dirigir\n",
            "14 anos não tem permissão para dirigir\n",
            "15 anos não tem permissão para dirigir\n",
            "18 anos tem permissão para dirigir\n",
            "24 anos tem permissão para dirigir\n",
            "50 anos tem permissão para dirigir\n"
          ]
        }
      ]
    },
    {
      "cell_type": "markdown",
      "source": [
        "# Boleano"
      ],
      "metadata": {
        "id": "ru19WQdAAbIa"
      }
    },
    {
      "cell_type": "code",
      "source": [
        "permissoes = []\n",
        "idades = [20, 14, 40]\n",
        "\n",
        "def verifica_dirigir(idades, permissoes):\n",
        "  for idade in idades:\n",
        "    if idade >= 18:\n",
        "      permissoes.append(True)\n",
        "    else:\n",
        "      permissoes.append(False)\n",
        "\n",
        "verifica_dirigir(idades, permissoes)"
      ],
      "metadata": {
        "id": "0hy_X9akAeub"
      },
      "execution_count": null,
      "outputs": []
    },
    {
      "cell_type": "code",
      "source": [
        "permissoes"
      ],
      "metadata": {
        "colab": {
          "base_uri": "https://localhost:8080/"
        },
        "id": "3_-G2-suA5Jh",
        "outputId": "f76a049b-13fd-4126-e3bb-4c383ad829e2"
      },
      "execution_count": null,
      "outputs": [
        {
          "output_type": "execute_result",
          "data": {
            "text/plain": [
              "[True, False, True]"
            ]
          },
          "metadata": {},
          "execution_count": 29
        }
      ]
    },
    {
      "cell_type": "code",
      "source": [
        "for permissao in permissoes:\n",
        "  if permissao == True:\n",
        "    print('Tem permissão para dirigir')\n",
        "  else: \n",
        "    print('Não tem permissão para dirigir')"
      ],
      "metadata": {
        "colab": {
          "base_uri": "https://localhost:8080/"
        },
        "id": "wVzal4X-A-l6",
        "outputId": "f4b6df61-f337-4a0f-d940-3ab838e017b2"
      },
      "execution_count": null,
      "outputs": [
        {
          "output_type": "stream",
          "name": "stdout",
          "text": [
            "Tem permissão para dirigir\n",
            "Não tem permissão para dirigir\n",
            "Tem permissão para dirigir\n"
          ]
        }
      ]
    },
    {
      "cell_type": "markdown",
      "source": [
        "# Tipos em uma lista\n",
        "\n"
      ],
      "metadata": {
        "id": "onP7aK9iDS1O"
      }
    },
    {
      "cell_type": "code",
      "source": [
        "lista = ['Larissa', 27, True, '0']\n",
        "\n",
        "for elemento in lista:\n",
        "  print(f'O elemento {elemento} é do tipo: ', type(elemento))"
      ],
      "metadata": {
        "colab": {
          "base_uri": "https://localhost:8080/"
        },
        "id": "Kv9zBbmIDYNq",
        "outputId": "2d556377-1300-4f94-d8e0-22bbef420170"
      },
      "execution_count": null,
      "outputs": [
        {
          "output_type": "stream",
          "name": "stdout",
          "text": [
            "O elemento Larissa é do tipo:  <class 'str'>\n",
            "O elemento 27 é do tipo:  <class 'int'>\n",
            "O elemento True é do tipo:  <class 'bool'>\n",
            "O elemento 0 é do tipo:  <class 'str'>\n"
          ]
        }
      ]
    },
    {
      "cell_type": "markdown",
      "source": [
        "# Import"
      ],
      "metadata": {
        "id": "y0mXiOa9E4x0"
      }
    },
    {
      "cell_type": "code",
      "source": [
        "from random import randrange, seed"
      ],
      "metadata": {
        "id": "_74zA9BiE9-m"
      },
      "execution_count": null,
      "outputs": []
    },
    {
      "cell_type": "code",
      "source": [
        "seed(11)"
      ],
      "metadata": {
        "id": "rM_V0Nn0Nxj0"
      },
      "execution_count": null,
      "outputs": []
    },
    {
      "cell_type": "code",
      "source": [
        "randrange(0, 11)"
      ],
      "metadata": {
        "colab": {
          "base_uri": "https://localhost:8080/"
        },
        "id": "g8JXHaJ_Fnp1",
        "outputId": "4fc43680-91be-4c6f-9754-74d84cbe7566"
      },
      "execution_count": null,
      "outputs": [
        {
          "output_type": "execute_result",
          "data": {
            "text/plain": [
              "7"
            ]
          },
          "metadata": {},
          "execution_count": 47
        }
      ]
    },
    {
      "cell_type": "code",
      "source": [
        "notas_matematica = []\n",
        "for notas in range(8):\n",
        " notas_matematica.append(randrange(0, 11))\n",
        "notas_matematica"
      ],
      "metadata": {
        "colab": {
          "base_uri": "https://localhost:8080/"
        },
        "id": "p3kWWUsrF0i1",
        "outputId": "793f2c7b-ff90-45aa-d844-4517897540f0"
      },
      "execution_count": null,
      "outputs": [
        {
          "output_type": "execute_result",
          "data": {
            "text/plain": [
              "[7, 10, 9, 2, 1, 7, 4, 2]"
            ]
          },
          "metadata": {},
          "execution_count": 49
        }
      ]
    },
    {
      "cell_type": "markdown",
      "source": [
        "# Matplotlib"
      ],
      "metadata": {
        "id": "GQ9kE7g1QBGK"
      }
    },
    {
      "cell_type": "code",
      "source": [
        "import matplotlib.pyplot as plt"
      ],
      "metadata": {
        "id": "ALRxLIEZQF5a"
      },
      "execution_count": null,
      "outputs": []
    },
    {
      "cell_type": "code",
      "source": [
        "x = list(range(1, 9))\n",
        "y = notas_matematica\n",
        "plt.plot(x, y, marker='o')\n",
        "plt.title('Notas de matemática')\n",
        "plt.xlabel('Provas')\n",
        "plt.ylabel('Notas')\n",
        "plt.show()"
      ],
      "metadata": {
        "colab": {
          "base_uri": "https://localhost:8080/",
          "height": 295
        },
        "id": "IDGZ8Ls2QtWl",
        "outputId": "f255dec5-461e-43c4-bc9b-9075633b6223"
      },
      "execution_count": null,
      "outputs": [
        {
          "output_type": "display_data",
          "data": {
            "image/png": "[encoded data removed]",
            "text/plain": [
              "<Figure size 432x288 with 1 Axes>"
            ]
          },
          "metadata": {
            "needs_background": "light"
          }
        }
      ]
    },
    {
      "cell_type": "code",
      "source": [
        ""
      ],
      "metadata": {
        "id": "WROhEDnnRFAs"
      },
      "execution_count": null,
      "outputs": []
    }
  ]
}